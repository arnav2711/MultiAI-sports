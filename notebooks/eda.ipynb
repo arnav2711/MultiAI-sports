{
 "cells": [
  {
   "cell_type": "code",
   "execution_count": 17,
   "id": "7e223046",
   "metadata": {},
   "outputs": [
    {
     "name": "stdout",
     "output_type": "stream",
     "text": [
      "Number of unique teams (Home): 20\n",
      "Number of unique teams (Away): 20\n",
      "All teams in dataset: ['Burnley' 'Man City' 'Arsenal' \"Nott'm Forest\" 'Bournemouth' 'West Ham'\n",
      " 'Brighton' 'Luton' 'Everton' 'Fulham' 'Sheffield United' 'Crystal Palace'\n",
      " 'Newcastle' 'Aston Villa' 'Brentford' 'Tottenham' 'Chelsea' 'Liverpool'\n",
      " 'Man United' 'Wolves']\n",
      "Total unique teams overall: 20\n"
     ]
    }
   ],
   "source": [
    "import sys\n",
    "import os\n",
    "\n",
    "# Add the parent directory of 'notebooks' (which contains 'src') to sys.path\n",
    "sys.path.append(os.path.abspath('..'))\n",
    "\n",
    "from src.data_loader import load_data\n",
    "import pandas as pd\n",
    "from src.data_loader import load_data\n",
    "\n",
    "# Load the raw EPL match data\n",
    "df = load_data(\"../data/raw/E0.csv\")\n",
    "\n",
    "# Show the first few rows\n",
    "print(\"Number of unique teams (Home):\", df['HomeTeam'].nunique())\n",
    "print(\"Number of unique teams (Away):\", df['AwayTeam'].nunique())\n",
    "\n",
    "teams = pd.unique(df[['HomeTeam', 'AwayTeam']].values.ravel())\n",
    "print(\"All teams in dataset:\", teams)\n",
    "print(f\"Total unique teams overall: {len(teams)}\")\n",
    "\n",
    "\n"
   ]
  },
  {
   "cell_type": "code",
   "execution_count": null,
   "id": "262a009b",
   "metadata": {},
   "outputs": [],
   "source": []
  }
 ],
 "metadata": {
  "kernelspec": {
   "display_name": "Python 3",
   "language": "python",
   "name": "python3"
  },
  "language_info": {
   "codemirror_mode": {
    "name": "ipython",
    "version": 3
   },
   "file_extension": ".py",
   "mimetype": "text/x-python",
   "name": "python",
   "nbconvert_exporter": "python",
   "pygments_lexer": "ipython3",
   "version": "3.10.0"
  }
 },
 "nbformat": 4,
 "nbformat_minor": 5
}
